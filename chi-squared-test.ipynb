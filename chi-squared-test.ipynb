{
 "cells": [
  {
   "cell_type": "code",
   "execution_count": 1,
   "metadata": {
    "scrolled": true
   },
   "outputs": [
    {
     "name": "stdout",
     "output_type": "stream",
     "text": [
      "Test1:  Power_divergenceResult(statistic=3.333333333333333, pvalue=0.5036682742334986)\n",
      "Test2:  Power_divergenceResult(statistic=2.083333333333333, pvalue=0.7204349163118167)\n"
     ]
    }
   ],
   "source": [
    "# effecient numerical arrays\n",
    "import numpy as np\n",
    "# data frames\n",
    "import scipy.stats\n",
    "# chi square library\n",
    "from scipy.stats import chisquare\n",
    "\n",
    "# test chisquare for mean of the observed frequencies.\n",
    "print(\"Test1: \", chisquare([1, 2, 3, 4, 5]))\n",
    "# mean of the observed frequencies with expected frequencies\n",
    "print(\"Test2: \", chisquare([1, 2, 3, 4, 5], f_exp=[1, 1, 2, 3, 4]))"
   ]
  },
  {
   "cell_type": "code",
   "execution_count": 2,
   "metadata": {},
   "outputs": [
    {
     "name": "stdout",
     "output_type": "stream",
     "text": [
      "Array Dimersions:  (4, 3)\n"
     ]
    },
    {
     "data": {
      "text/plain": [
       "Power_divergenceResult(statistic=156.62153846153845, pvalue=6.588067527281063e-28)"
      ]
     },
     "execution_count": 2,
     "metadata": {},
     "output_type": "execute_result"
    }
   ],
   "source": [
    "# make a 2d array of observed results\n",
    "obs = np.array([[90, 60, 104, 95], [30, 50, 51, 20], [30, 40, 45, 35]]).T\n",
    "# display array shape\n",
    "print(\"Array Dimersions: \", obs.shape)\n",
    "# find chisquare and pValue\n",
    "chisquare(obs, axis=None)"
   ]
  },
  {
   "cell_type": "code",
   "execution_count": 3,
   "metadata": {},
   "outputs": [
    {
     "name": "stdout",
     "output_type": "stream",
     "text": [
      "(24.5712028585826, 0.0004098425861096696, 6, array([[ 80.53846154,  80.53846154, 107.38461538,  80.53846154],\n",
      "       [ 34.84615385,  34.84615385,  46.46153846,  34.84615385],\n",
      "       [ 34.61538462,  34.61538462,  46.15384615,  34.61538462]]))\n",
      "\n",
      "chi-square-value:  24.5712028585826\n",
      "p-value:  0.0004098425861096696\n"
     ]
    }
   ],
   "source": [
    "from scipy.stats import chi2_contingency\n",
    "\n",
    "# make a 2d array of observed results\n",
    "obs1 = np.array([[90, 60, 104, 95], [30, 50, 51, 20], [30, 40, 45, 35]])\n",
    "# print results (chi, p ,dof, expected : ndarray)\n",
    "print(chi2_contingency(obs1))\n",
    "\n",
    "# format results\n",
    "result = chi2_contingency(obs1)\n",
    "print(\"\\nchi-square-value: \", result[0])\n",
    "print(\"p-value: \", result[1])\n"
   ]
  }
 ],
 "metadata": {
  "kernelspec": {
   "display_name": "Python 3",
   "language": "python",
   "name": "python3"
  },
  "language_info": {
   "codemirror_mode": {
    "name": "ipython",
    "version": 3
   },
   "file_extension": ".py",
   "mimetype": "text/x-python",
   "name": "python",
   "nbconvert_exporter": "python",
   "pygments_lexer": "ipython3",
   "version": "3.8.3"
  }
 },
 "nbformat": 4,
 "nbformat_minor": 4
}
