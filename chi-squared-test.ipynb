{
 "cells": [
  {
   "attachments": {
    "wikipediaTable.PNG": {
     "image/png": "[encoded data removed]"
    }
   },
   "cell_type": "markdown",
   "metadata": {},
   "source": [
    "## Tasks\n",
    "\n",
    "This my proposed solution to the given assessment. The Chi-squared test for independence is a statistical\n",
    "hypothesis test. It is used to analyse whether two categorical variables are independent. The Wikipedia article on the test for independance gives the table below as an example, stating the Chi-squared value based on it is approximately 24.6. The objective is to use scipy.stats and leverage the Chi-squared test for independence, to verify the given stastical values and calculate the associated p value.  \n",
    "\n",
    "![wikipediaTable.PNG](attachment:wikipediaTable.PNG)\n",
    "\n",
    "The author is Anthony Moore (G00170900@gmit.ie)\n",
    "***\n",
    "#### Task: Verify the Chi-squared value is approx 24.6 and determine the p value\n",
    "***\n",
    "I began by first reading the referenced wikipedia article to try and buld an understanding on what the Chi-squared test for independance was and how to apply it. The chi-squared test for independance is used to determine whether there is a statistically significant difference between the expected frequencies and the observed frequencies in one or more categories of a contingency table [1].\n",
    "\n",
    "I also had a read over the scipy.stats.chisquare documentation [2] to search for an explaination on how the formula operates. Much to my joy I discovered that the scipy documention is both extreamly detailed and user friendly. It even came with practical example on how to implement the formula into a solution.\n",
    "\n",
    "[1] Chi-squared test - https://en.wikipedia.org/wiki/Chi-squared_test#Chi-squared_test_for_variance_in_a_normal_population\n",
    "\n",
    "[2] scipy.stats.chisquare - https://docs.scipy.org/doc/scipy/reference/generated/scipy.stats.chisquare.html\n"
   ]
  },
  {
   "cell_type": "markdown",
   "metadata": {},
   "source": [
    "#### Test Code: Ensure the scipy.stats.chisquare library is working correctly"
   ]
  },
  {
   "cell_type": "code",
   "execution_count": 1,
   "metadata": {
    "scrolled": true
   },
   "outputs": [
    {
     "name": "stdout",
     "output_type": "stream",
     "text": [
      "Test1:  Power_divergenceResult(statistic=3.333333333333333, pvalue=0.5036682742334986)\n",
      "Test2:  Power_divergenceResult(statistic=2.083333333333333, pvalue=0.7204349163118167)\n"
     ]
    }
   ],
   "source": [
    "# effecient numerical arrays\n",
    "import numpy as np\n",
    "# data frames\n",
    "import scipy.stats\n",
    "# chi square library\n",
    "from scipy.stats import chisquare\n",
    "\n",
    "# test chisquare for mean of the observed frequencies.\n",
    "print(\"Test1: \", chisquare([1, 2, 3, 4, 5]))\n",
    "# mean of the observed frequencies with expected frequencies\n",
    "print(\"Test2: \", chisquare([1, 2, 3, 4, 5], f_exp=[1, 1, 2, 3, 4]))"
   ]
  },
  {
   "cell_type": "markdown",
   "metadata": {},
   "source": [
    "#### Verify the Chi-squared value"
   ]
  },
  {
   "cell_type": "code",
   "execution_count": 2,
   "metadata": {},
   "outputs": [
    {
     "name": "stdout",
     "output_type": "stream",
     "text": [
      "Array Dimersions:  (3, 4)\n"
     ]
    },
    {
     "data": {
      "text/plain": [
       "Power_divergenceResult(statistic=156.62153846153845, pvalue=6.588067527281063e-28)"
      ]
     },
     "execution_count": 2,
     "metadata": {},
     "output_type": "execute_result"
    }
   ],
   "source": [
    "# make a 2d array of observed results\n",
    "obs = np.array([[90, 60, 104, 95], [30, 50, 51, 20], [30, 40, 45, 35]])\n",
    "# display array shape\n",
    "print(\"Array Dimersions: \", obs.shape)\n",
    "# find chisquare and pValue\n",
    "chisquare(obs, axis=None)"
   ]
  },
  {
   "cell_type": "markdown",
   "metadata": {},
   "source": [
    "#### Observation\n",
    "\n",
    "My result was clearly way off the expected 24.6 that wikipedia suggested. This could have potentially ment that the wikipedia result was incorrect. However, I was rather skeptical and was more inclined to believe that I had made and error somewhere. I quickly glanced over my input paramaters to ensure they were correct and everything seemed to be in order.\n",
    "\n",
    "I then consulted the scipy documentation to ensure that I had not misenteriperated how the function was supposed be applied. On second inspection, I discovered that perhaps the function I used was not the correct one for this type of categorical data. It would apprear that it for was for testing the null hypothesis.\n",
    "\n",
    "> Calculate a one-way chi-square test.\n",
    "\n",
    "> The chi-square test tests the null hypothesis that the categorical data has the given frequencies.\n",
    "\n",
    "Looking through the scipy documentation I came across scipy.stats.chi2_contingency [3]. This seemed to be more inline with the description used in the wikipedia article [1].It would seem that this version of the function is an application of Pearson's chi-squared test [4].\n",
    "\n",
    "> Chi-square test of independence of variables in a contingency table.\n",
    "\n",
    "> This function computes the chi-square statistic and p-value for the hypothesis test of independence of the observed frequencies in the contingency table [5] observed.\n",
    "\n",
    "[3] scipy.stats.chi2_contingency - https://docs.scipy.org/doc/scipy/reference/generated/scipy.stats.chi2_contingency.html\n",
    "\n",
    "[4] Pearson's chi-squared test - https://en.wikipedia.org/wiki/Pearson%27s_chi-squared_test\n",
    "\n",
    "[5] Contingency Table - https://en.wikipedia.org/wiki/Contingency_table\n"
   ]
  },
  {
   "cell_type": "code",
   "execution_count": 3,
   "metadata": {},
   "outputs": [
    {
     "name": "stdout",
     "output_type": "stream",
     "text": [
      "(24.5712028585826, 0.0004098425861096696, 6, array([[ 80.53846154,  80.53846154, 107.38461538,  80.53846154],\n",
      "       [ 34.84615385,  34.84615385,  46.46153846,  34.84615385],\n",
      "       [ 34.61538462,  34.61538462,  46.15384615,  34.61538462]]))\n",
      "\n",
      "chi-square-value:  24.5712028585826\n",
      "p-value:  0.0004098425861096696\n"
     ]
    }
   ],
   "source": [
    "from scipy.stats import chi2_contingency\n",
    "\n",
    "# make a 2d array of observed results\n",
    "obs1 = np.array([[90, 60, 104, 95], [30, 50, 51, 20], [30, 40, 45, 35]])\n",
    "# print results (chi, p ,dof, expected : ndarray)\n",
    "print(chi2_contingency(obs1))\n",
    "\n",
    "# format results\n",
    "result = chi2_contingency(obs1)\n",
    "print(\"\\nchi-square-value: \", result[0])\n",
    "print(\"p-value: \", result[1])\n"
   ]
  },
  {
   "cell_type": "markdown",
   "metadata": {},
   "source": [
    "## Conclusion\n",
    "\n",
    "Using this scipy function I was able to replicate the same results as the wikipedia article and calculate the associated p value. This would indeed verify that the results on the wikipedia article are correct."
   ]
  }
 ],
 "metadata": {
  "kernelspec": {
   "display_name": "Python 3",
   "language": "python",
   "name": "python3"
  },
  "language_info": {
   "codemirror_mode": {
    "name": "ipython",
    "version": 3
   },
   "file_extension": ".py",
   "mimetype": "text/x-python",
   "name": "python",
   "nbconvert_exporter": "python",
   "pygments_lexer": "ipython3",
   "version": "3.8.3"
  }
 },
 "nbformat": 4,
 "nbformat_minor": 4
}
