{
 "cells": [
  {
   "cell_type": "markdown",
   "metadata": {},
   "source": [
    "## Tasks\n",
    "This my proposed solution to the given assessment. The objective is to calculate the square root of 2 to within 100 decimal places. The code provided should not depend on any code from the standard library or otherwise, with the exception of validating the results for comparison.\n",
    "\n",
    "The author is Anthony Moore (G00170900@gmit.ie)\n",
    "***\n",
    "#### Task: Calculate the square root of 2 to 100 decimal places.\n",
    "***\n",
    "We can calculate the the square root of a number using Newtons Method [1,2] to find the square root of $z$ of a number $x$, we can iterate using the following formula.\n",
    "\n",
    "$$ z_{zext} = z - \\frac{z^2 -x} {2z} $$\n",
    "\n",
    "[1] A Tour of Go - Exercise: Loops and Functions https://tour.golang.org/flowcontrol/8\n",
    "\n",
    "[2] Wolfram MathWorld - Newton's Method https://mathworld.wolfram.com/NewtonsMethod.html\n"
   ]
  },
  {
   "cell_type": "code",
   "execution_count": 1,
   "metadata": {},
   "outputs": [],
   "source": [
    "def sqrtNum(x):\n",
    "    \"\"\"\n",
    "    A function to calculate the square root of a number x\n",
    "    \"\"\"\n",
    "    # Initial estimate for the square root of z\n",
    "    z = x / 2\n",
    "    # loop until we are happy with the level of precision\n",
    "    while abs(x - (z * z)) > 0.00000001:\n",
    "        # calculate a better guess for the square root on the next iteration\n",
    "        z -= (z * z - x) / (2 * z)\n",
    "    # return the (approximate) square root of x\n",
    "    return z\n"
   ]
  },
  {
   "cell_type": "code",
   "execution_count": 2,
   "metadata": {},
   "outputs": [
    {
     "data": {
      "text/plain": [
       "10.000000000107446"
      ]
     },
     "execution_count": 2,
     "metadata": {},
     "output_type": "execute_result"
    }
   ],
   "source": [
    "# Test the function on 100\n",
    "sqrtNum(100)"
   ]
  },
  {
   "cell_type": "code",
   "execution_count": 3,
   "metadata": {},
   "outputs": [
    {
     "data": {
      "text/plain": [
       "1.4142135623746899"
      ]
     },
     "execution_count": 3,
     "metadata": {},
     "output_type": "execute_result"
    }
   ],
   "source": [
    "# Test the function on 2\n",
    "sqrtNum(2)"
   ]
  },
  {
   "cell_type": "code",
   "execution_count": 4,
   "metadata": {
    "scrolled": true
   },
   "outputs": [
    {
     "data": {
      "text/plain": [
       "1.4142135623730951"
      ]
     },
     "execution_count": 4,
     "metadata": {},
     "output_type": "execute_result"
    }
   ],
   "source": [
    "# Use math library to validate our result\n",
    "import math\n",
    "math.sqrt(2)"
   ]
  },
  {
   "cell_type": "markdown",
   "metadata": {},
   "source": [
    "#### Enhancements 1\n",
    "***\n",
    "Building upon our basic algorithm we must now investigate how to achieve an accurate result to within 100 decimal places. The first milestone, we must overcome is the limitation of how a programming languages typically handle floating point numbers. In most languages floats are typically 32bits in size with a precision of 24bits which equates to 7 decimal places. Doubles are typically 64bits in size with a precession of 53bits which equates to 16 decimal places [3,4]\n",
    "\n",
    "One approach to this solution could potentially be to try and represent the value as a string. Since a string is essentially a character array with no maximum limit. Its only real limitation on a 64bit operating system would be the amount of random access memory (RAM) that is physically installed on the machine.\n",
    "\n",
    "[3] IEEE 754: floating point in modern computers https://en.wikipedia.org/wiki/Floating-point_arithmetic#IEEE_754:_floating_point_in_modern_computers\n",
    "\n",
    "[4] Floating Point Arithmetic: Issues and Limitations: https://docs.python.org/3/tutorial/floatingpoint.html\n"
   ]
  },
  {
   "cell_type": "code",
   "execution_count": 5,
   "metadata": {},
   "outputs": [
    {
     "name": "stdout",
     "output_type": "stream",
     "text": [
      "1.4142135623746898698271934335934929549694061279296875000000000000000000000000000000000000000000000000\n"
     ]
    }
   ],
   "source": [
    "# Attempt to calculate to 100 decimal places using string format\n",
    "result = format(sqrtNum(2),',.100f')\n",
    "print(result)"
   ]
  },
  {
   "cell_type": "markdown",
   "metadata": {},
   "source": [
    "#### Observation:\n",
    "It would seem that using a string did infact generate 100 decimal places. However, it appears to have stopped calculating after 53 decimal digits. This would also seem to confirm how floating point numbers are stored on modern computers as binary fractions, as per the referenced python documentation. \n",
    "\n",
    "\"On most machines today, floats are approximated using a binary fraction with the numerator using the first 53 bits starting with the most significant bit and with the denominator as a power of two. In the case of 1/10, the binary fraction is 3602879701896397 / 2 ** 55 which is close to but not exactly equal to the true value of 1/10.\"\n"
   ]
  },
  {
   "cell_type": "markdown",
   "metadata": {},
   "source": [
    "#### Enhancements 2\n",
    "***\n",
    "Given the limitations of floating-point numbers and my plan to use a string coming up short. I started to think of other ways to hold large numerical values. The obvious one that can to mind was an integer as this could hold 2^64. Initially I felt that this would be a limitation and that I would probably need to import the math library to unbind this figure. However, I was presently surprised to find that this built in feature with the Python3 standard library [5].\n",
    "\n",
    "I then looked into how to create very large integer values (unbounded) by using the exponentiation operator $**$ and dividing into whole numbers using the floored quotient operator $//$ to avoid returning any floating point numbers [6].\n",
    "\n",
    "[5] Integers https://docs.python.org/3/whatsnew/3.0.html#integers\n",
    "\n",
    "[6] Numeric Types https://docs.python.org/3/library/stdtypes.html#numeric-types-int-float-complex"
   ]
  },
  {
   "cell_type": "code",
   "execution_count": 6,
   "metadata": {},
   "outputs": [
    {
     "name": "stdout",
     "output_type": "stream",
     "text": [
      "sqrt(2) : 1.4142135623730950488016887242096980785696718753769480731766797379907324784621070388503875343276415727\n"
     ]
    }
   ],
   "source": [
    "def sqrt2(inputNum):\n",
    "    \"\"\"\n",
    "    A function to calculate the square root of a number using large interger values.\n",
    "    \"\"\"\n",
    "    # multiply input by our exponentiation multiplier (makes large int values)\n",
    "    multiplyer = 1 * 10 ** 200\n",
    "    inputNum *= multiplyer\n",
    "\n",
    "    # level of precision\n",
    "    precision = 0.0001\n",
    "\n",
    "    # make x a copy of the large inputNum\n",
    "    x = inputNum\n",
    "\n",
    "    # make an initial guess (divide with floored quotient)\n",
    "    z =  x // 2\n",
    "\n",
    "    # loop until we reach the required precision\n",
    "    while abs((x - z) > precision):\n",
    "        # calculate a better guess for the square root\n",
    "        x = (x + z) // 2\n",
    "        z = inputNum // x\n",
    "\n",
    "    return x\n",
    "\n",
    "# output result\n",
    "print(f'sqrt(2) : {sqrt2(2) // 10**100}.{sqrt2(2) % 10**100 :100d}')\n"
   ]
  },
  {
   "cell_type": "code",
   "execution_count": null,
   "metadata": {},
   "outputs": [],
   "source": []
  }
 ],
 "metadata": {
  "kernelspec": {
   "display_name": "Python 3",
   "language": "python",
   "name": "python3"
  },
  "language_info": {
   "codemirror_mode": {
    "name": "ipython",
    "version": 3
   },
   "file_extension": ".py",
   "mimetype": "text/x-python",
   "name": "python",
   "nbconvert_exporter": "python",
   "pygments_lexer": "ipython3",
   "version": "3.8.3"
  }
 },
 "nbformat": 4,
 "nbformat_minor": 4
}
