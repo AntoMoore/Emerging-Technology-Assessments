{
 "cells": [
  {
   "cell_type": "markdown",
   "metadata": {},
   "source": [
    "## Tasks\n",
    "This my proposed solution to the given assessment. The code should not depend on any code from the standard library or otherwise. The author is Anthony Moore (G00170900@gmit.ie)\n",
    "***\n",
    "#### Task: Calculate the square root of 2 to 100 decimal places.\n",
    "***\n",
    "We can calculate the the square root og a number using Newtons Method [1,2] to find the square root of $z$ of a number $x$, we can iterate using the following formula.\n",
    "\n",
    "$$ z_{zext} = z - \\frac{z^2 -x} {2z} $$\n",
    "\n",
    "[1] A Tour of Go - Exercise: Loops and Functions https://tour.golang.org/flowcontrol/8\n",
    "\n",
    "[2] Wolfram MathWorld - Newton's Method https://mathworld.wolfram.com/NewtonsMethod.html\n",
    "\n",
    "[3] SAS Blogs - The Babylonian method for finding square roots by hand https://blogs.sas.com/content/iml/2016/05/16/babylonian-square-roots.html\n",
    "\n",
    "[4] geeksforgeeks - Find root of a number using Newton’s method https://www.geeksforgeeks.org/find-root-of-a-number-using-newtons-method/#:~:text=Let%20N%20be%20any%20number,correct%20square%20root%20of%20N.\n"
   ]
  },
  {
   "cell_type": "code",
   "execution_count": 1,
   "metadata": {},
   "outputs": [],
   "source": [
    "def sqrt2(x):\n",
    "    \"\"\"\n",
    "    A function to calculate the square root of a number x\n",
    "    \"\"\"\n",
    "    # Initial estimate for the square root of z\n",
    "    z = x / 2\n",
    "    # loop until we are happy with the level of precision\n",
    "    while abs(x - (z * z)) > 0.0001:\n",
    "        # calculate a better guess for the square root on the next iteration\n",
    "        z -= (z * z - x) / (2 * z)\n",
    "    # return the (approximate) square root of x\n",
    "    return z\n"
   ]
  },
  {
   "cell_type": "code",
   "execution_count": 2,
   "metadata": {},
   "outputs": [
    {
     "data": {
      "text/plain": [
       "10.000000000107446"
      ]
     },
     "execution_count": 2,
     "metadata": {},
     "output_type": "execute_result"
    }
   ],
   "source": [
    "# Test the function on 100\n",
    "sqrt2(100)"
   ]
  },
  {
   "cell_type": "code",
   "execution_count": 3,
   "metadata": {},
   "outputs": [
    {
     "data": {
      "text/plain": [
       "1.4142156862745099"
      ]
     },
     "execution_count": 3,
     "metadata": {},
     "output_type": "execute_result"
    }
   ],
   "source": [
    "# Test the function of 2\n",
    "sqrt2(2)"
   ]
  },
  {
   "cell_type": "code",
   "execution_count": 4,
   "metadata": {},
   "outputs": [
    {
     "data": {
      "text/plain": [
       "1.4142135623730951"
      ]
     },
     "execution_count": 4,
     "metadata": {},
     "output_type": "execute_result"
    }
   ],
   "source": [
    "# Use math library to validate result\n",
    "import math\n",
    "math.sqrt(2)"
   ]
  }
 ],
 "metadata": {
  "kernelspec": {
   "display_name": "Python 3",
   "language": "python",
   "name": "python3"
  },
  "language_info": {
   "codemirror_mode": {
    "name": "ipython",
    "version": 3
   },
   "file_extension": ".py",
   "mimetype": "text/x-python",
   "name": "python",
   "nbconvert_exporter": "python",
   "pygments_lexer": "ipython3",
   "version": "3.8.3"
  }
 },
 "nbformat": 4,
 "nbformat_minor": 4
}
