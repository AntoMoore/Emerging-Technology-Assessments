{
 "cells": [
  {
   "cell_type": "markdown",
   "metadata": {},
   "source": [
    "# Tasks\n",
    "This my proposed solution to the given assessment. The objective is to research the two different implementations of the standard deviation function used by mircosoft excel libary and highlight the differences between them. These functions are *STDEV.P* and *STDEV.S* respeciievly. Then use **numpy** to perform a simulation demonstrating that the *STDEV.S* calculation is a better estimate for the standard deviation of a population when performed on a sample."
   ]
  },
  {
   "cell_type": "markdown",
   "metadata": {},
   "source": [
    "## Research\n",
    "Consulting the Microsoft Excel documentation [1,2], I went to investigate why there is a need for two different formulas for calculating the standard deviation of a population and in what context are they used.\n",
    "\n",
    "#### STDEV.S\n",
    "\n",
    "> Estimates standard deviation based on a sample (ignores logical values and text in the sample).\n",
    "\n",
    "#### STDEV.P\n",
    "\n",
    "> Calculates standard deviation based on the entire population given as arguments (ignores logical values and text).\n",
    "\n",
    "On further investigation [3], I was able to establish that *STDEV.P* is to be used for calculating the standard deviation on an entire population. For example: if you had 20 students in a class and all of them had been accounted for.\n",
    "\n",
    "By extension *STDEV.S* is to be used in instances where only a sample of a larger population has been taken. For example: if you had 20 students in a class, but only obtained data for 12 of them.\n",
    "\n",
    "Therefore, *STDEV.S* functions as a type of \"correction\" when the data collected is only a sample of a larger population [4].\n",
    "\n",
    "[1] STDEV.S function - https://support.microsoft.com/en-us/office/stdev-s-function-7d69cf97-0c1f-4acf-be27-f3e83904cc23\n",
    "\n",
    "[2] STDEV.P function - https://support.microsoft.com/en-us/office/stdev-p-function-6e917c05-31a0-496f-ade7-4f4e7462f285\n",
    "\n",
    "[3] Standard Deviation - https://en.wikipedia.org/wiki/Standard_deviation\n",
    "\n",
    "[4] Standard Deviation and Variance - https://www.mathsisfun.com/data/standard-deviation.html\n"
   ]
  },
  {
   "cell_type": "markdown",
   "metadata": {},
   "source": [
    "## Application of numpy.std() for baseline testing\n",
    "\n",
    "*numpy.std*(arr, axis = None) : Compute the standard deviation of the given data (array elements) along the specified axis[5].\n",
    "\n",
    "**Standard Deviation** (SD) is measured as the spread of data distribution in the given data set[6].\n",
    "\n",
    "[5] Numpy Docs -https://numpy.org/doc/stable/reference/generated/numpy.std.html#:~:text=The%20standard%20deviation%20is%20the,N%20%3D%20len(x)%20.\n",
    "\n",
    "[6] numpy.std() in Python - https://www.geeksforgeeks.org/numpy-std-in-python/\n"
   ]
  },
  {
   "cell_type": "code",
   "execution_count": 1,
   "metadata": {},
   "outputs": [
    {
     "name": "stdout",
     "output_type": "stream",
     "text": [
      "pop :  [20, 2, 7, 1, 34]\n",
      "std of pop :  12.576167937809991\n"
     ]
    }
   ],
   "source": [
    "# Python Program illustrating STDEV.P\n",
    "# using numpy.std() method  \n",
    "import numpy as np\n",
    "    \n",
    "# population array  \n",
    "pop = [20, 2, 7, 1, 34] \n",
    "\n",
    "## get std dev  \n",
    "print(\"pop : \", pop)  \n",
    "print(\"std of pop : \", np.std(pop))  "
   ]
  },
  {
   "cell_type": "code",
   "execution_count": 2,
   "metadata": {},
   "outputs": [
    {
     "name": "stdout",
     "output_type": "stream",
     "text": [
      "sample :  [20, 2, 7]\n",
      "std of sample :  9.291573243177568\n"
     ]
    }
   ],
   "source": [
    "# Python Program illustrating STDEV.S\n",
    "# numpy.std() method  \n",
    "\n",
    "# Remove the last 2 index from the array, so it is a sample population of 3/5 \n",
    "sample = [20, 2, 7] \n",
    "\n",
    "## get std dev\n",
    "print(\"sample : \", sample)  \n",
    "print(\"std of sample : \", np.std(sample, ddof=1))"
   ]
  },
  {
   "cell_type": "markdown",
   "metadata": {},
   "source": [
    "## Application of formula for result validation\n",
    "#### STDEV.P = *np.sqrt(np.sum((x - np.mean(x))**2)/len(x))* \n",
    "#### STDEV.S = *np.sqrt(np.sum((x - np.mean(x))**2)/(len(x)-1))"
   ]
  },
  {
   "cell_type": "code",
   "execution_count": 3,
   "metadata": {},
   "outputs": [
    {
     "name": "stdout",
     "output_type": "stream",
     "text": [
      "pop :  [20, 2, 7, 1, 34]\n",
      "std of pop :  12.576167937809991\n"
     ]
    }
   ],
   "source": [
    "# formula implementation STDEV.P\n",
    "# population array\n",
    "pop = [20, 2, 7, 1, 34] \n",
    "\n",
    "## get std dev\n",
    "print(\"pop : \", pop)\n",
    "print(\"std of pop : \", np.sqrt(np.sum((pop - np.mean(pop))**2)/len(pop)))"
   ]
  },
  {
   "cell_type": "code",
   "execution_count": 4,
   "metadata": {},
   "outputs": [
    {
     "name": "stdout",
     "output_type": "stream",
     "text": [
      "sample :  [20, 2, 7]\n",
      "std of sample :  9.291573243177568\n"
     ]
    }
   ],
   "source": [
    "# formula implementation STDEV.S\n",
    "# Remove the last 2 index from the arry, so it is a sample population of 3/5 \n",
    "sample = [20, 2, 7] \n",
    "\n",
    "## get std dev\n",
    "print(\"sample : \", sample)\n",
    "print(\"std of sample : \", np.sqrt(np.sum((sample - np.mean(sample))**2)/(len(sample) -1)))"
   ]
  },
  {
   "cell_type": "markdown",
   "metadata": {},
   "source": [
    "## Simulation to prove STDEV.S is a better estimate for the standard deviation when performed on a sample population\n",
    "\n",
    "Given that we have been able to demonstrate the testing and validation of results using various methods, we can now be confident that the calculations obtained are correct. For the simulation we will perform a *STDEV.P* calculation on a **sample population** of data and compare it to the actual results of the *STDEV.S* calculation.\n",
    "\n",
    "Technically this is the incorrect application of the *STDEV.P* formula. However, this is being done for the purpose of demonstrating that STDEV.S is a more accurate estimate in this situation. As before we will use numpy.std() as the baseline and validate the results with our own formula."
   ]
  },
  {
   "cell_type": "code",
   "execution_count": 5,
   "metadata": {},
   "outputs": [
    {
     "name": "stdout",
     "output_type": "stream",
     "text": [
      "sample :  [20, 2, 7]\n",
      "std of sample :  7.586537784494028\n"
     ]
    }
   ],
   "source": [
    "# Python Program illustrating STDEV.P on a sample\n",
    "# using numpy.std() method  \n",
    "\n",
    "# Remove the last 2 index from the arry, so it is a sample population of 3/5\n",
    "sample = [20, 2, 7] \n",
    "\n",
    "## get std dev  \n",
    "print(\"sample : \", sample)  \n",
    "print(\"std of sample : \", np.std(sample)) "
   ]
  },
  {
   "cell_type": "code",
   "execution_count": 6,
   "metadata": {},
   "outputs": [
    {
     "name": "stdout",
     "output_type": "stream",
     "text": [
      "sample :  [20, 2, 7]\n",
      "std of sample :  7.586537784494028\n"
     ]
    }
   ],
   "source": [
    "# formula implementation STDEV.P on a sample\n",
    "# Remove the last 2 index from the arry, so it is a sample population of 3/5 \n",
    "sample = [20, 2, 7] \n",
    "\n",
    "## get std dev\n",
    "print(\"sample : \", sample)\n",
    "print(\"std of sample : \", np.sqrt(np.sum((sample - np.mean(sample))**2)/len(sample)))"
   ]
  },
  {
   "cell_type": "markdown",
   "metadata": {},
   "source": [
    "## Observation\n",
    "Using the the *STDEV.P* calculation on a sample of population data we were yeiled with the result of 7.586537784494028, which is incorrect based on the previous tests we performed on the same data. Furthermore, the variance between the incorrect application od *STDEV.P* on a sample and the actual *STDEV.P* on a population, was greater than the correct application STDEV.S when used on a sample of population data. The results can be summerised below:\n",
    "\n",
    "Population : [20, 2, 7, 1, 34].\n",
    "\n",
    "Sample : [20, 2, 7].\n",
    "\n",
    "Actual STDEV.P = 12.576167937809991\n",
    "\n",
    "Actual STDEV.S = 9.291573243177568\n",
    "\n",
    "Incorrect STDEV.P = 7.586537784494028 (Using STDEV.P on a sample)\n",
    "\n",
    "#### Calculate the difference between the results\n",
    "Percent Difference = (v1 - v2) / ((v1 + v2) / 2) * 100"
   ]
  },
  {
   "cell_type": "code",
   "execution_count": 7,
   "metadata": {},
   "outputs": [
    {
     "name": "stdout",
     "output_type": "stream",
     "text": [
      "Actual Percentage Difference:  30.040548472268767\n"
     ]
    }
   ],
   "source": [
    "# calculate the difference between Actual STDEV.P and Actual STDEV.S\n",
    "v1 = 12.576167937809991\n",
    "v2 = 9.291573243177568\n",
    "\n",
    "dif = ((v1 - v2) / ((v1 + v2) / 2)) * 100\n",
    "print(\"Actual Percentage Difference: \", dif)"
   ]
  },
  {
   "cell_type": "code",
   "execution_count": 8,
   "metadata": {},
   "outputs": [
    {
     "name": "stdout",
     "output_type": "stream",
     "text": [
      "Incorrect Percentage Difference:  49.49365647683313\n"
     ]
    }
   ],
   "source": [
    "# calculate the difference between Actual STDEV.P and Incorrect STDEV.P\n",
    "v1 = 12.576167937809991\n",
    "v2 = 7.586537784494028\n",
    "\n",
    "dif = ((v1 - v2) / ((v1 + v2) / 2)) * 100\n",
    "print(\"Incorrect Percentage Difference: \", dif)"
   ]
  },
  {
   "cell_type": "markdown",
   "metadata": {},
   "source": [
    "## Conclusion\n",
    "On the small sample of data that we provided during the tests, the correct application of STDEV.S on a sample was within approx 30% of the actual STDEV.P results from the full population.\n",
    "\n",
    "However, the incorrect application of *STDEV.P* on a sample was out by approx 49.5% compared to the actual *STDEV.P* results from the full population.\n",
    "\n",
    "Using various methods of testing and validation of our baseline data. Then by simulating the incorrect use of *STDEV.P* we have been able to establish that *STDEV.S* is a more accurate estimate for the standard deviation of a population when performed on a sample."
   ]
  }
 ],
 "metadata": {
  "kernelspec": {
   "display_name": "Python 3",
   "language": "python",
   "name": "python3"
  },
  "language_info": {
   "codemirror_mode": {
    "name": "ipython",
    "version": 3
   },
   "file_extension": ".py",
   "mimetype": "text/x-python",
   "name": "python",
   "nbconvert_exporter": "python",
   "pygments_lexer": "ipython3",
   "version": "3.8.3"
  }
 },
 "nbformat": 4,
 "nbformat_minor": 4
}
