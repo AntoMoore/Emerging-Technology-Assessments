{
 "cells": [
  {
   "cell_type": "markdown",
   "metadata": {},
   "source": [
    "# Tasks\n",
    "This my proposed solution to the given assessment. The objective is to research the two different implementations of the standard deviation function used by mircosoft excel libary and highlight the differences between them. These functions are **STDEV.P** and **STDEV.S** respeciievly. Then use **numpy** to perform a simulation demonstrating that the **STDEV.S** calculation is a better estimate for the standard deviation of a population when performed on a sample."
   ]
  },
  {
   "cell_type": "markdown",
   "metadata": {},
   "source": [
    "## Research\n",
    "Consulting the Microsoft Excel documentation [1,2], I went to investigate why there is a need for two different formulas for calculating the standard deviation of a population and in what context are they used.\n",
    "\n",
    "#### STDEV.S\n",
    "\n",
    "> Estimates standard deviation based on a sample (ignores logical values and text in the sample).\n",
    "\n",
    "#### STDEV.P\n",
    "\n",
    "> Calculates standard deviation based on the entire population given as arguments (ignores logical values and text).\n",
    "\n",
    "On further investigation [3], I was able to establish that *STDEV.P* is to be used for calculating the standard deviation on an entire population. For example: if you had 20 students in a class and all of them had been accounted for.\n",
    "\n",
    "By extension *STDEV.S* is to be used in instances where only a sample of a larger population has been taken. For example: if you had 20 students in a class, but only obtained data for 12 of them.\n",
    "\n",
    "Therefore, *STDEV.S* functions as a type of \"correction\" when the data collected is only a sample of a larger population [4].\n",
    "\n",
    "[1] STDEV.S function - https://support.microsoft.com/en-us/office/stdev-s-function-7d69cf97-0c1f-4acf-be27-f3e83904cc23\n",
    "\n",
    "[2] STDEV.P function - https://support.microsoft.com/en-us/office/stdev-p-function-6e917c05-31a0-496f-ade7-4f4e7462f285\n",
    "\n",
    "[3] Standard Deviation - https://en.wikipedia.org/wiki/Standard_deviation\n",
    "\n",
    "[4] Standard Deviation and Variance - https://www.mathsisfun.com/data/standard-deviation.html\n"
   ]
  }
 ],
 "metadata": {
  "kernelspec": {
   "display_name": "Python 3",
   "language": "python",
   "name": "python3"
  },
  "language_info": {
   "codemirror_mode": {
    "name": "ipython",
    "version": 3
   },
   "file_extension": ".py",
   "mimetype": "text/x-python",
   "name": "python",
   "nbconvert_exporter": "python",
   "pygments_lexer": "ipython3",
   "version": "3.8.3"
  }
 },
 "nbformat": 4,
 "nbformat_minor": 4
}
