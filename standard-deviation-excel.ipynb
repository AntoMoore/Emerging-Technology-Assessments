{
 "cells": [
  {
   "cell_type": "markdown",
   "metadata": {},
   "source": [
    "# Tasks\n",
    "This my proposed solution to the given assessment. The objective is to research the two different implementations of the standard deviation function used by mircosoft excel libary and highlight the differences between them. These functions are **STDEV.P** and **STDEV.S** respeciievly. Then use **numpy** to perform a simulation demonstrating that the **STDEV.S** calculation is a better estimate for the standard deviation of a population when performed on a sample."
   ]
  },
  {
   "cell_type": "markdown",
   "metadata": {},
   "source": [
    "## Research\n",
    "Consulting the Microsoft Excel documentation [1,2], I went to investigate why there is a need for two different formulas for calculating the standard deviation of a population and in what context are they used.\n",
    "\n",
    "#### STDEV.S\n",
    "\n",
    "> Estimates standard deviation based on a sample (ignores logical values and text in the sample).\n",
    "\n",
    "#### STDEV.P\n",
    "\n",
    "> Calculates standard deviation based on the entire population given as arguments (ignores logical values and text).\n",
    "\n",
    "On further investigation [3], I was able to establish that *STDEV.P* is to be used for calculating the standard deviation on an entire population. For example: if you had 20 students in a class and all of them had been accounted for.\n",
    "\n",
    "By extension *STDEV.S* is to be used in instances where only a sample of a larger population has been taken. For example: if you had 20 students in a class, but only obtained data for 12 of them.\n",
    "\n",
    "Therefore, *STDEV.S* functions as a type of \"correction\" when the data collected is only a sample of a larger population [4].\n",
    "\n",
    "[1] STDEV.S function - https://support.microsoft.com/en-us/office/stdev-s-function-7d69cf97-0c1f-4acf-be27-f3e83904cc23\n",
    "\n",
    "[2] STDEV.P function - https://support.microsoft.com/en-us/office/stdev-p-function-6e917c05-31a0-496f-ade7-4f4e7462f285\n",
    "\n",
    "[3] Standard Deviation - https://en.wikipedia.org/wiki/Standard_deviation\n",
    "\n",
    "[4] Standard Deviation and Variance - https://www.mathsisfun.com/data/standard-deviation.html\n"
   ]
  },
  {
   "cell_type": "markdown",
   "metadata": {},
   "source": [
    "## Application of numpy\n",
    "\n",
    "*numpy.std*(arr, axis = None) : Compute the standard deviation of the given data (array elements) along the specified axis[5].\n",
    "\n",
    "**Standard Deviation** (SD) is measured as the spread of data distribution in the given data set[6].\n",
    "\n",
    "[5] Numpy Docs -https://numpy.org/doc/stable/reference/generated/numpy.std.html#:~:text=The%20standard%20deviation%20is%20the,N%20%3D%20len(x)%20.\n",
    "\n",
    "[6] numpy.std() in Python - https://www.geeksforgeeks.org/numpy-std-in-python/\n"
   ]
  },
  {
   "cell_type": "code",
   "execution_count": 1,
   "metadata": {},
   "outputs": [
    {
     "name": "stdout",
     "output_type": "stream",
     "text": [
      "pop :  [20, 2, 7, 1, 34]\n",
      "std of pop :  12.576167937809991\n",
      "\n",
      "More precision with float32\n",
      "std of pop :  12.576168\n",
      "\n",
      "More accuracy with float64\n",
      "std of pop :  12.576167937809991\n"
     ]
    }
   ],
   "source": [
    "# Python Program illustrating STDEV.P\n",
    "# numpy.std() method  \n",
    "import numpy as np\n",
    "    \n",
    "# 1D array  \n",
    "pop = [20, 2, 7, 1, 34] \n",
    "  \n",
    "print(\"pop : \", pop)  \n",
    "print(\"std of pop : \", np.std(pop)) \n",
    "  \n",
    "print (\"\\nMore precision with float32\") \n",
    "print(\"std of pop : \", np.std(pop, dtype = np.float32)) \n",
    "  \n",
    "print (\"\\nMore accuracy with float64\") \n",
    "print(\"std of pop : \", np.std(pop, dtype = np.float64)) "
   ]
  },
  {
   "cell_type": "code",
   "execution_count": 2,
   "metadata": {},
   "outputs": [
    {
     "name": "stdout",
     "output_type": "stream",
     "text": [
      "pop :  [20, 2, 7]\n",
      "std of pop :  7.586537784494028\n",
      "\n",
      "More precision with float32\n",
      "std of pop :  7.586538\n",
      "\n",
      "More accuracy with float64\n",
      "std of pop :  7.586537784494028\n"
     ]
    }
   ],
   "source": [
    "# Python Program illustrating STDEV.S\n",
    "# numpy.std() method  \n",
    "# Remove the last 2 index from the arry, so it is a sample population of 3/5\n",
    "# 1D array  \n",
    "pop = [20, 2, 7] \n",
    "\n",
    "print(\"pop : \", pop)  \n",
    "print(\"std of pop : \", np.std(pop))\n",
    "  \n",
    "print (\"\\nMore precision with float32\") \n",
    "print(\"std of pop : \", np.std(pop, dtype = np.float32))\n",
    "  \n",
    "print (\"\\nMore accuracy with float64\") \n",
    "print(\"std of pop : \", np.std(pop, dtype = np.float64))"
   ]
  },
  {
   "cell_type": "code",
   "execution_count": 3,
   "metadata": {},
   "outputs": [
    {
     "data": {
      "text/plain": [
       "12.576167937809991"
      ]
     },
     "execution_count": 3,
     "metadata": {},
     "output_type": "execute_result"
    }
   ],
   "source": [
    "# Manual implementation STDEV.P\n",
    "# define array\n",
    "arr = [20, 2, 7, 1, 34] \n",
    "\n",
    "## get std dev\n",
    "np.sqrt(np.sum((arr - np.mean(arr))**2)/len(arr))"
   ]
  },
  {
   "cell_type": "code",
   "execution_count": 4,
   "metadata": {},
   "outputs": [
    {
     "data": {
      "text/plain": [
       "7.520342781785652"
      ]
     },
     "execution_count": 4,
     "metadata": {},
     "output_type": "execute_result"
    }
   ],
   "source": [
    "# Manual implementation STDEV.S\n",
    "# Remove the last 2 index from the arry, so it is a sample population of 3/5\n",
    "# 1D array  \n",
    "arr = [20, 2, 7] \n",
    "np.sqrt(np.sum((arr - np.mean(arr))**2)/len(arr) - 1)"
   ]
  }
 ],
 "metadata": {
  "kernelspec": {
   "display_name": "Python 3",
   "language": "python",
   "name": "python3"
  },
  "language_info": {
   "codemirror_mode": {
    "name": "ipython",
    "version": 3
   },
   "file_extension": ".py",
   "mimetype": "text/x-python",
   "name": "python",
   "nbconvert_exporter": "python",
   "pygments_lexer": "ipython3",
   "version": "3.8.3"
  }
 },
 "nbformat": 4,
 "nbformat_minor": 4
}
